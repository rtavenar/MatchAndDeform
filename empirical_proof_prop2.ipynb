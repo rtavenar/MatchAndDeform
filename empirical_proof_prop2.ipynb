{
 "cells": [
  {
   "attachments": {},
   "cell_type": "markdown",
   "metadata": {},
   "source": [
    "# Empirical validation of property 2\n",
    "\n",
    "This notebook is dedicated to an empirical validation of the following property from the MAD paper:\n",
    "\n",
    "Property 2\n",
    "\n",
    "Let $X$ and $X^\\prime$ be datasets each composed of $n$ time series, and let us assume uniform weights, i.e. $w=w^\\prime=(1/n, \\cdots, 1/n)$.\n",
    "There exists a transport plan solution to the MAD (resp. $|\\mathcal{C}|$-MAD) problem that is a one-to-one matching, i.e. each sample from $X$ is matched to exactly one sample in $X^\\prime$ (and conversely).\n",
    "\n",
    "Emprical validation:\n",
    "\n",
    "Because $X$ and $X^\\prime$ are composed of the same number of series $n$, property 2 implies that the transport plan has only $n$ non-zero elements. Moreover, because of the uniform weights, each series must have at least one matching."
   ]
  },
  {
   "cell_type": "code",
   "execution_count": 1,
   "metadata": {},
   "outputs": [
    {
     "name": "stderr",
     "output_type": "stream",
     "text": [
      "2023-03-31 14:15:27.805529: I tensorflow/core/platform/cpu_feature_guard.cc:193] This TensorFlow binary is optimized with oneAPI Deep Neural Network Library (oneDNN) to use the following CPU instructions in performance-critical operations:  AVX2 FMA\n",
      "To enable them in other operations, rebuild TensorFlow with the appropriate compiler flags.\n"
     ]
    }
   ],
   "source": [
    "import numpy.random as npr\n",
    "import numpy as np\n",
    "import ot\n",
    "import tslearn.metrics as tslm\n",
    "import matplotlib.pyplot as plt\n"
   ]
  },
  {
   "cell_type": "markdown",
   "metadata": {},
   "source": [
    "Numpy (and abriege) version of MAD"
   ]
  },
  {
   "cell_type": "code",
   "execution_count": 2,
   "metadata": {},
   "outputs": [],
   "source": [
    "# The MAD algorithm\n",
    "\n",
    "class MAD:\n",
    "    def __init__(self, X, Y):\n",
    "\n",
    "        self.X = X\n",
    "        self.Y = Y\n",
    "        self.shapeX = X.shape\n",
    "        self.shapeY = Y.shape\n",
    "        self.classe = np.zeros((self.shapeX[0], 1), dtype=int)\n",
    "        self.classe_unique = np.unique(self.classe)\n",
    "        self.Xa_one = np.ones(self.shapeX[0]) / self.shapeX[0]\n",
    "        self.Ya_one = np.ones(self.shapeY[0]) / self.shapeY[0]\n",
    "        self.OT_tilde = self.init_OT_matrix()\n",
    "\n",
    "        self.tab_idx = []\n",
    "        self.dist_OT = []\n",
    "        self.pi_DTW_idx = []\n",
    "        self.pi_DTW_path_idx = []\n",
    "        self.Xsquared = []\n",
    "        self.Xsquared_sum = []\n",
    "        self.Ysquared = self.Y ** 2\n",
    "        for cl in self.classe_unique:\n",
    "            self.tab_idx.append(np.where(self.classe == cl)[0])\n",
    "            self.pi_DTW_idx.append(self.init_DTW_matrix())\n",
    "            X2 = self.X[self.tab_idx[cl]] ** 2\n",
    "            X2_sum = np.dot(self.Xa_one[self.tab_idx[cl]], X2.transpose(1, 0, -1)).sum(-1)\n",
    "            self.Xsquared.append(X2)\n",
    "            self.Xsquared_sum.append(X2_sum[:, None])\n",
    "\n",
    "    def init_OT_matrix(self):\n",
    "        cost_OT = np.ones((self.shapeX[0], self.shapeY[0]))\n",
    "        OT_tilde = ot.emd(self.Xa_one, self.Ya_one, cost_OT, numItermax=10000000)\n",
    "        return OT_tilde\n",
    "\n",
    "    def init_DTW_matrix(self):\n",
    "        DTW_matrix = np.zeros((self.shapeX[1], self.shapeY[1]))\n",
    "        ts = [0, 0]\n",
    "        indices_table = [[1, 0], [0, 1], [1, 1]]\n",
    "        while (ts[0] != self.shapeX[1] - 1) or (ts[1] != self.shapeY[1] - 1):\n",
    "            DTW_matrix[ts[0], ts[1]] = 1\n",
    "            if ts[0] == self.shapeX[1] - 1:\n",
    "                indice_moving = 1\n",
    "            elif ts[1] == self.shapeY[1] - 1:\n",
    "                indice_moving = 0\n",
    "            else:\n",
    "                indice_moving = npr.randint(3)\n",
    "            ts[0] = ts[0] + indices_table[indice_moving][0]\n",
    "            ts[1] = ts[1] + indices_table[indice_moving][1]\n",
    "        DTW_matrix[-1, -1] = 1\n",
    "        return DTW_matrix\n",
    "\n",
    "    def mat_cost_OT(self):\n",
    "        mat_cost = np.zeros(shape=(self.shapeX[0], self.shapeY[0]))\n",
    "\n",
    "        for cl in self.classe_unique:\n",
    "            pi_DTW = self.pi_DTW_idx[cl]\n",
    "            C1 = np.dot(self.Xsquared[cl].transpose(0, -1, 1), np.sum(pi_DTW, axis=1)).sum(-1)\n",
    "            C2 = np.dot(self.Ysquared.transpose(0, -1, 1), np.sum(pi_DTW.T, axis=1)).sum(-1)\n",
    "            C3 = np.tensordot(np.dot(self.X[self.tab_idx[cl]].transpose(0, -1, 1), pi_DTW), self.Y,\n",
    "                                axes=([1, 2], [2, 1]))\n",
    "            res = C1[:, None] + C2[None, :] - 2 * C3\n",
    "            mat_cost[self.tab_idx[cl]] = res\n",
    "        mat_cost /= (self.shapeX[1] + self.shapeY[1]) / 2\n",
    "        return mat_cost\n",
    "\n",
    "    def mat_dist_DTW(self, classe_it=None):\n",
    "        if classe_it is None:\n",
    "            OTc = self.OT_tilde\n",
    "            Xc = self.X\n",
    "        else:\n",
    "            OTc = self.OT_tilde[self.tab_idx[classe_it]]\n",
    "            Xc = self.X[self.tab_idx[classe_it]]\n",
    "        C2 = np.dot(OTc.sum(axis=0), self.Ysquared.transpose(1, 0, -1)).sum(-1)\n",
    "        C31 = np.dot(Xc.T, OTc)\n",
    "        C32 = np.tensordot(C31, self.Y, axes=([0, 2], [2, 0]))\n",
    "        res = self.Xsquared_sum[classe_it] + C2[None, :] - 2 * C32\n",
    "        res /= (self.shapeX[1] + self.shapeY[1]) / 2\n",
    "        return res\n",
    "\n",
    "    def path2mat(self, path):\n",
    "        pi_DTW = np.zeros((self.shapeX[1], self.shapeY[1]))\n",
    "        for i, j in path:\n",
    "            pi_DTW[i, j] = 1\n",
    "        return pi_DTW\n",
    "\n",
    "    def stopping_criterion(self, last_pi_DTW):\n",
    "        stop = True\n",
    "        for cl in self.classe_unique:\n",
    "            pi_DTW = self.pi_DTW_idx[cl]\n",
    "            last_DTW = last_pi_DTW[cl]\n",
    "            if (pi_DTW != last_DTW).any():\n",
    "                stop = False\n",
    "        return stop\n",
    "\n",
    "    def main_training(self, max_init=100, first_step_DTW=True):\n",
    "        cost = {\"Cost\": []}\n",
    "        stop = False\n",
    "        current_init = 0\n",
    "        # Begin training\n",
    "        while stop is not True and current_init < max_init:\n",
    "            if (current_init != 0) or (first_step_DTW is False):\n",
    "                Cost_OT = self.mat_cost_OT()\n",
    "                self.OT_tilde = ot.emd(self.Xa_one, self.Ya_one, Cost_OT, numItermax=1000000)\n",
    "                score_OT = np.sum(self.OT_tilde * Cost_OT)\n",
    "                cost[\"Cost\"].append(score_OT)\n",
    "\n",
    "            dtw_score = 0\n",
    "            self.pi_DTW_path_idx = []\n",
    "            total_cost_DTW = []\n",
    "            for cl in self.classe_unique:\n",
    "                mat_dist = self.mat_dist_DTW(cl)\n",
    "                total_cost_DTW.append(mat_dist)\n",
    "                Pi_DTW_path, dtw_score_prov = tslm.dtw_path_from_metric(mat_dist, metric=\"precomputed\")\n",
    "                self.pi_DTW_path_idx.append(Pi_DTW_path)\n",
    "                Pi_DTW_prov = self.path2mat(Pi_DTW_path)\n",
    "                self.pi_DTW_idx[cl] = Pi_DTW_prov\n",
    "                dtw_score += dtw_score_prov\n",
    "            cost[\"Cost\"].append(dtw_score)\n",
    "            if current_init != 0:\n",
    "                stop = self.stopping_criterion(last_pi_DTW)\n",
    "            last_pi_DTW = self.pi_DTW_idx.copy()\n",
    "            current_init = current_init + 1\n",
    "        else:\n",
    "            return self.OT_tilde, self.pi_DTW_idx, Cost_OT, score_OT\n",
    "\n"
   ]
  },
  {
   "cell_type": "markdown",
   "metadata": {},
   "source": [
    "Simple test : we count the number of occurences where the property does not hold. Hopefully, the count stays at 0."
   ]
  },
  {
   "cell_type": "code",
   "execution_count": 3,
   "metadata": {},
   "outputs": [
    {
     "name": "stdout",
     "output_type": "stream",
     "text": [
      "There are 0 datasets for which the property is not verified\n"
     ]
    }
   ],
   "source": [
    "npr.seed(10)\n",
    "\n",
    "different_than_expected = 0\n",
    "for n in range(2, 400):\n",
    "    nb_series = n\n",
    "    nb_times = 20\n",
    "    nb_feature = 2\n",
    "\n",
    "    data_X = npr.normal(size=(nb_series, nb_times, nb_feature))\n",
    "    data_Y = npr.normal(size=(nb_series, nb_times, nb_feature))\n",
    "\n",
    "    mad = MAD(data_X, data_Y)\n",
    "    OT, DTW, score, _ = mad.main_training()\n",
    "    non_zero = np.count_nonzero(OT)\n",
    "    if non_zero != nb_series:\n",
    "        different_than_expected += 1\n",
    "print(\"There are\", different_than_expected, \"datasets for which the property is not verified\")\n"
   ]
  }
 ],
 "metadata": {
  "kernelspec": {
   "display_name": "Python 3.8.5 ('anaconda3')",
   "language": "python",
   "name": "python3"
  },
  "language_info": {
   "codemirror_mode": {
    "name": "ipython",
    "version": 3
   },
   "file_extension": ".py",
   "mimetype": "text/x-python",
   "name": "python",
   "nbconvert_exporter": "python",
   "pygments_lexer": "ipython3",
   "version": "3.9.6"
  },
  "orig_nbformat": 4,
  "vscode": {
   "interpreter": {
    "hash": "00036dfcc2497e759c7ebcbd7b6dab5fedd6b776a66997d4fce41a30dd58dac7"
   }
  }
 },
 "nbformat": 4,
 "nbformat_minor": 2
}
